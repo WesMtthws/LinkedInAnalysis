{
 "cells": [
  {
   "cell_type": "code",
   "execution_count": null,
   "metadata": {},
   "outputs": [],
   "source": [
    "#imports modules used in this project\n",
    "\n",
    "import pandas as pd\n",
    "import altair as alt\n",
    "import datapane as dp\n",
    "import plotly.express as px\n",
    "import plotly.graph_objects as go\n",
    "import matplotlib.pyplot as plt\n",
    "dp.login(token='')"
   ]
  },
  {
   "cell_type": "code",
   "execution_count": null,
   "metadata": {},
   "outputs": [],
   "source": [
    "network = pd.read_csv('Connections.csv')"
   ]
  },
  {
   "cell_type": "code",
   "execution_count": null,
   "metadata": {},
   "outputs": [],
   "source": [
    "network_head = network.head(10)\n",
    "network_head"
   ]
  },
  {
   "cell_type": "code",
   "execution_count": null,
   "metadata": {},
   "outputs": [],
   "source": [
    "figs = []\n",
    "\n",
    "figs.append(dp.Markdown('# LinkedIn Network'))\n",
    "figs.append(dp.Table(network.head(10)))"
   ]
  },
  {
   "cell_type": "code",
   "execution_count": null,
   "metadata": {},
   "outputs": [],
   "source": [
    "network.info()"
   ]
  },
  {
   "cell_type": "code",
   "execution_count": null,
   "metadata": {},
   "outputs": [],
   "source": [
    "network_description = network.describe()"
   ]
  },
  {
   "cell_type": "code",
   "execution_count": null,
   "metadata": {},
   "outputs": [],
   "source": [
    "network['Last Name'] = 'Redacted'\n",
    "redacted_head = network.head(10)\n",
    "redacted_head"
   ]
  },
  {
   "cell_type": "code",
   "execution_count": null,
   "metadata": {},
   "outputs": [],
   "source": [
    "#Converts the date format provided by LinkedIn to a Year-Month format\n",
    "\n",
    "from datetime import datetime\n",
    "\n",
    "def convert(date):\n",
    "    return datetime.strptime(date, \"%d-%b-%y\").strftime(\"%Y-%m\")\n",
    "\n",
    "network[\"Connected On\"] = network[\"Connected On\"].apply(convert)"
   ]
  },
  {
   "cell_type": "code",
   "execution_count": null,
   "metadata": {},
   "outputs": [],
   "source": [
    "#Regroups dataframe by Company\n",
    "company_groupby = network.groupby(by='Company').count().reset_index().sort_values(by='First Name', ascending=False).reset_index(drop=True)\n",
    "company_groupby"
   ]
  },
  {
   "cell_type": "code",
   "execution_count": null,
   "metadata": {},
   "outputs": [],
   "source": [
    "#Regroups dataframe by Date Connected On\n",
    "date_groupby = network.groupby(by='Connected On').count().reset_index().reset_index(drop=True)\n",
    "date_groupby = date_groupby.rename(columns={'Position' : 'New Connections'})\n",
    "date_groupby"
   ]
  },
  {
   "cell_type": "code",
   "execution_count": null,
   "metadata": {},
   "outputs": [],
   "source": [
    "#Creates chart by New Connections by Date\n",
    "chart_connected_by_month = alt.Chart(date_groupby).mark_line(color=\"green\", point=True).encode(\n",
    "    x=alt.X('Connected On', axis=alt.Axis(tickCount=0, grid=False, labelOverlap=True)),\n",
    "    y=alt.Y('Company'),\n",
    "    tooltip=['New Connections', 'Connected On']\n",
    ").interactive()\n",
    "\n",
    "chart_connected_by_month.encoding.y.title = 'New Connections'\n",
    "\n",
    "chart_connected_by_month"
   ]
  },
  {
   "cell_type": "code",
   "execution_count": null,
   "metadata": {},
   "outputs": [],
   "source": [
    "#Reformats the New Connections by Date into a running total sum of connections\n",
    "date_groupby['c_sum'] = date_groupby['First Name'].cumsum()\n",
    "print(date_groupby)"
   ]
  },
  {
   "cell_type": "code",
   "execution_count": null,
   "metadata": {},
   "outputs": [],
   "source": [
    "#Creates Chart of Running Total Sum of Connections\n",
    "cumsum = alt.Chart(date_groupby).mark_line(color=\"green\", point=True).encode(\n",
    "    x=alt.X('Connected On', axis=alt.Axis(tickCount=0, grid=False, labelOverlap=True)),\n",
    "    y='c_sum',\n",
    "    tooltip=['c_sum', 'Connected On']\n",
    ").interactive()\n",
    "\n",
    "cumsum.encoding.y.title = 'Running Total'\n",
    "\n",
    "cumsum"
   ]
  },
  {
   "cell_type": "code",
   "execution_count": null,
   "metadata": {},
   "outputs": [],
   "source": [
    "#Creates Chart of Most Represented Companies\n",
    "network['Company'].value_counts()\n",
    "\n",
    "company_barchart = px.bar(network.groupby(by='Company').count().sort_values(by='First Name', ascending=False)[:10].reset_index(),\n",
    "       x='Company',\n",
    "       y='First Name',\n",
    "       labels={'First Name': 'Number'},\n",
    "        title= 'Top Represented Companies in my LinkedIn Network'\n",
    "      )\n",
    "\n",
    "company_barchart.update_layout(margin=dict(l=0, r=0, t=35, b=0))\n",
    "company_barchart.show()"
   ]
  },
  {
   "cell_type": "code",
   "execution_count": null,
   "metadata": {},
   "outputs": [],
   "source": [
    "#Creates Chart of Most Held Positions\n",
    "network['Position'].value_counts()\n",
    "\n",
    "position_barchart = px.bar(network.groupby(by='Position').count().sort_values(by='First Name', ascending=False)[:10].reset_index(),\n",
    "       x='Position',\n",
    "       y='First Name',\n",
    "       labels={'First Name': 'Number'},\n",
    "        title= 'Most Frequently Held Positions in my LinkedIn Network'\n",
    "      )\n",
    "\n",
    "position_barchart.show()"
   ]
  },
  {
   "cell_type": "code",
   "execution_count": null,
   "metadata": {},
   "outputs": [],
   "source": [
    "#Imports Module for Word cloud and creates function needed to create chart by frequency of terms found in Position Column\n",
    "\n",
    "positions = ' '.join(network[~network.Position.isnull()].Position.unique())\n",
    "\n",
    "from wordcloud import WordCloud, STOPWORDS, ImageColorGenerator\n",
    "import matplotlib.pyplot as plt\n",
    "%matplotlib inline\n",
    "\n",
    "\n",
    "def make_wordcloud(new_text):\n",
    "    ''''function to make wordcloud'''\n",
    "    \n",
    "    wordcloud = WordCloud(width = 800, height = 800, \n",
    "                min_font_size = 10,\n",
    "                background_color='black', \n",
    "                colormap='Set2', \n",
    "                collocations=False).generate(new_text) \n",
    "    \n",
    "    #wordcloud.recolor(color_func = grey_color_func)\n",
    "\n",
    "    \n",
    "    fig = plt.figure(figsize = (8, 8), facecolor = None) \n",
    "    plt.imshow(wordcloud, interpolation='bilinear') \n",
    "    plt.axis(\"off\") \n",
    "    plt.tight_layout(pad = 0) \n",
    "\n",
    "    plt.show() \n",
    "    \n",
    "    return fig"
   ]
  },
  {
   "cell_type": "code",
   "execution_count": null,
   "metadata": {},
   "outputs": [],
   "source": [
    "#Creates wordcloud from terms found in the \"Positions\" column\n",
    "wordcloud = make_wordcloud(positions)\n",
    "wordcloud"
   ]
  },
  {
   "cell_type": "code",
   "execution_count": null,
   "metadata": {},
   "outputs": [],
   "source": [
    "#Finds inferred gender by first name\n",
    "first_names = network['First Name'][0:100]\n",
    "first_names\n",
    "listgender = (Genderize().get(first_names))"
   ]
  },
  {
   "cell_type": "code",
   "execution_count": null,
   "metadata": {},
   "outputs": [],
   "source": [
    "#creates chart based on percentage gender breakdown by month\n",
    "\n",
    "x = df['Connected On']\n",
    "y1 = df['pct_female']\n",
    "y2 = df['pct_male']\n",
    "\n",
    "fig, ax = plt.subplots(figsize=(25, 6))\n",
    "\n",
    "ax.set_ylim([0, 100])\n",
    "\n",
    "plt.xticks(rotation=45)\n",
    "ax.set_yticks([10, 30, 50, 70, 90], minor=True)\n",
    "\n",
    "    \n",
    "plt.plot(x, y1,\"-r\", label=\"pct_female\")\n",
    "plt.plot(x, y2,\"-b\", label=\"pct_male\")\n",
    "\n",
    "plt.grid(b=True, which='both', color='0.65', linestyle='-')\n",
    "\n",
    "n = 4  # Keeps every 7th label\n",
    "[l.set_visible(False) for (i,l) in enumerate(ax.xaxis.get_ticklabels()) if i % n != 0]\n",
    "        \n",
    "plt.legend(prop={'size': 20})\n",
    "plt.rcParams.update({'font.size': 20})\n",
    "\n",
    "plt.plot\n",
    "\n",
    "fig"
   ]
  },
  {
   "cell_type": "code",
   "execution_count": null,
   "metadata": {},
   "outputs": [],
   "source": [
    "#Used in interactivity of Company Treemap - Creates new column of first names by company\n",
    "\n",
    "company_groupby\n",
    "for company_index, company_row in company_groupby.iterrows():\n",
    "    company_connections = []\n",
    "    for index, row in network.iterrows():\n",
    "        if (row[\"Company\"]) == company_row[\"Company\"]:\n",
    "            company_connections.append(row[\"First Name\"])\n",
    "    print(company_connections)\n",
    "    company_groupby.at[company_index,'Company Connections'] = company_connections"
   ]
  },
  {
   "cell_type": "code",
   "execution_count": null,
   "metadata": {},
   "outputs": [],
   "source": [
    "company_groupby"
   ]
  },
  {
   "cell_type": "code",
   "execution_count": null,
   "metadata": {},
   "outputs": [],
   "source": [
    "#Reformats column of first names to be usable by interactive treemap\n",
    "i = 6\n",
    "\n",
    "for company_index, company_row in company_groupby.iterrows():\n",
    "    while i < len(company_row['Company Connections']):\n",
    "        company_row['Company Connections'].insert(i, '<br>')\n",
    "        i += 7\n",
    "    i = 6\n",
    "\n",
    "print(company_groupby)\n",
    "\n",
    "company_groupby['Company Connections'] = company_groupby['Company Connections'].str.join(\", \")\n",
    "company_groupby"
   ]
  },
  {
   "cell_type": "code",
   "execution_count": null,
   "metadata": {},
   "outputs": [],
   "source": [
    "#Creates treemap by frequency of company\n",
    "company_treemap = px.treemap(company_groupby[:-1], path=['Company', 'Position'],\n",
    "          values='First Name',\n",
    "          labels={'First Name': 'Number'},\n",
    "                hover_data=company_groupby.columns)\n",
    "\n",
    "company_treemap.update_layout(margin=dict(l=0, r=0, t=0, b=0))\n",
    "\n",
    "company_treemap"
   ]
  },
  {
   "cell_type": "code",
   "execution_count": null,
   "metadata": {},
   "outputs": [],
   "source": [
    "#Creates Datapane Report\n",
    "report = dp.Report(\n",
    "  dp.DataTable(redacted_head, caption='Dataset for LinkedIn Network', name='redacted-head'),\n",
    "    dp.DataTable(network_description, caption='A Description of Data Found', name='network-description'),\n",
    "    dp.Plot(chart_connected_by_month, name='connected-month'),\n",
    "    #dp.Plot(chart_connected_by_month2, name='connected-month2'),\n",
    "    dp.Plot(cumsum, name='cumsum'),\n",
    "    dp.Plot(company_barchart, name='company-barchart'),\n",
    "    dp.Plot(company_treemap, name=\"treemap\"),\n",
    "    dp.Plot(position_barchart, name='position-barchart'),\n",
    "    dp.File(wordcloud, name='wordcloud'),\n",
    "    dp.Plot(fig, name='gender'),\n",
    "    type=dp.ReportType.ARTICLE\n",
    ")\n",
    "\n",
    "report.preview()"
   ]
  },
  {
   "cell_type": "code",
   "execution_count": null,
   "metadata": {},
   "outputs": [],
   "source": [
    "#Publishes report to Datapane\n",
    "report.publish(name='linkedin_network', open=True, visibility=dp.Visibility.PUBLIC)"
   ]
  }
 ],
 "metadata": {
  "kernelspec": {
   "display_name": "Python 3",
   "language": "python",
   "name": "python3"
  },
  "language_info": {
   "codemirror_mode": {
    "name": "ipython",
    "version": 3
   },
   "file_extension": ".py",
   "mimetype": "text/x-python",
   "name": "python",
   "nbconvert_exporter": "python",
   "pygments_lexer": "ipython3",
   "version": "3.7.6"
  }
 },
 "nbformat": 4,
 "nbformat_minor": 4
}
